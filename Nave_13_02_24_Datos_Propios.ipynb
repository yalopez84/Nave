{
  "nbformat": 4,
  "nbformat_minor": 0,
  "metadata": {
    "colab": {
      "provenance": [],
      "mount_file_id": "https://github.com/yalopez84/Nave/blob/Yoan/Nave_10_02_24_Datos_Propios.ipynb",
      "authorship_tag": "ABX9TyNqqT/qPBeEC7s79WlK0a1v",
      "include_colab_link": true
    },
    "kernelspec": {
      "name": "python3",
      "display_name": "Python 3"
    },
    "language_info": {
      "name": "python"
    }
  },
  "cells": [
    {
      "cell_type": "markdown",
      "metadata": {
        "id": "view-in-github",
        "colab_type": "text"
      },
      "source": [
        "<a href=\"https://colab.research.google.com/github/yalopez84/Nave/blob/master/Nave_13_02_24_Datos_Propios.ipynb\" target=\"_parent\"><img src=\"https://colab.research.google.com/assets/colab-badge.svg\" alt=\"Open In Colab\"/></a>"
      ]
    },
    {
      "cell_type": "code",
      "source": [
        "!pip install openai\n",
        "!pip install python-dotenv"
      ],
      "metadata": {
        "colab": {
          "base_uri": "https://localhost:8080/"
        },
        "id": "xVWdkbDI8seX",
        "outputId": "43ca255b-ec7e-4d4e-93bb-cd9e4f44bdca"
      },
      "execution_count": 30,
      "outputs": [
        {
          "output_type": "stream",
          "name": "stdout",
          "text": [
            "Requirement already satisfied: openai in /usr/local/lib/python3.10/dist-packages (1.12.0)\n",
            "Requirement already satisfied: anyio<5,>=3.5.0 in /usr/local/lib/python3.10/dist-packages (from openai) (3.7.1)\n",
            "Requirement already satisfied: distro<2,>=1.7.0 in /usr/lib/python3/dist-packages (from openai) (1.7.0)\n",
            "Requirement already satisfied: httpx<1,>=0.23.0 in /usr/local/lib/python3.10/dist-packages (from openai) (0.26.0)\n",
            "Requirement already satisfied: pydantic<3,>=1.9.0 in /usr/local/lib/python3.10/dist-packages (from openai) (2.6.1)\n",
            "Requirement already satisfied: sniffio in /usr/local/lib/python3.10/dist-packages (from openai) (1.3.0)\n",
            "Requirement already satisfied: tqdm>4 in /usr/local/lib/python3.10/dist-packages (from openai) (4.66.1)\n",
            "Requirement already satisfied: typing-extensions<5,>=4.7 in /usr/local/lib/python3.10/dist-packages (from openai) (4.9.0)\n",
            "Requirement already satisfied: idna>=2.8 in /usr/local/lib/python3.10/dist-packages (from anyio<5,>=3.5.0->openai) (3.6)\n",
            "Requirement already satisfied: exceptiongroup in /usr/local/lib/python3.10/dist-packages (from anyio<5,>=3.5.0->openai) (1.2.0)\n",
            "Requirement already satisfied: certifi in /usr/local/lib/python3.10/dist-packages (from httpx<1,>=0.23.0->openai) (2024.2.2)\n",
            "Requirement already satisfied: httpcore==1.* in /usr/local/lib/python3.10/dist-packages (from httpx<1,>=0.23.0->openai) (1.0.2)\n",
            "Requirement already satisfied: h11<0.15,>=0.13 in /usr/local/lib/python3.10/dist-packages (from httpcore==1.*->httpx<1,>=0.23.0->openai) (0.14.0)\n",
            "Requirement already satisfied: annotated-types>=0.4.0 in /usr/local/lib/python3.10/dist-packages (from pydantic<3,>=1.9.0->openai) (0.6.0)\n",
            "Requirement already satisfied: pydantic-core==2.16.2 in /usr/local/lib/python3.10/dist-packages (from pydantic<3,>=1.9.0->openai) (2.16.2)\n",
            "Requirement already satisfied: python-dotenv in /usr/local/lib/python3.10/dist-packages (1.0.1)\n"
          ]
        }
      ]
    },
    {
      "cell_type": "code",
      "source": [
        "from openai import AzureOpenAI\n",
        "import os\n",
        "import dotenv\n",
        "from google.colab import drive\n",
        "\n",
        "drive.mount('/content/drive')\n",
        "dotenv.load_dotenv('/content/drive/MyDrive/.env')\n",
        "\n",
        "dotenv.load_dotenv()\n",
        "azureOpenAI_endpoint = os.environ.get(\"AZUREOPENAI_ENDPOINT\")\n",
        "azureOpenAI_key = os.environ.get(\"AZUREOPENAI_KEY\")\n",
        "deployment_name = os.environ.get(\"DEPLOYMENT_NAME\")\n",
        "azureOpenAI_version = os.environ.get(\"AZUREOPENAI_VERSION\")\n",
        "search_endpoint = os.environ.get(\"SEARCH_ENDPOINT\")\n",
        "search_key = os.environ.get(\"SEARCH_KEY\")\n",
        "search_index_name = os.environ.get(\"SEARCH_INDEX_NAME\")\n",
        "\n",
        "client = AzureOpenAI(\n",
        "    base_url=f'{azureOpenAI_endpoint}/openai/deployments/{deployment_name}/extensions',\n",
        "    api_key=azureOpenAI_key,\n",
        "    api_version= azureOpenAI_version,\n",
        ")\n",
        "def Completamiento(question = 'Que es la nave', scope='1'):\n",
        "    inScope= False\n",
        "    if scope == '1':\n",
        "        inScope= True\n",
        "    completion = client.chat.completions.create(model= deployment_name, messages= [\n",
        "        {\n",
        "            \"role\": \"user\",\"content\": question\n",
        "            }\n",
        "        ], extra_body={\n",
        "            \"dataSources\": [\n",
        "                {\n",
        "                    \"type\": \"AzureCognitiveSearch\",\n",
        "                    \"parameters\": {\n",
        "                        \"endpoint\": search_endpoint,\n",
        "                        \"key\": search_key,\n",
        "                        \"indexName\": search_index_name,\n",
        "                        \"inScope\": inScope,\n",
        "                        \"roleInformation\": 'You are an AI assistant that helps people find information.',\n",
        "                        \"filter\": None,\n",
        "                        \"strictness\": 4,\n",
        "                        \"topNDocuments\": 5,\n",
        "                        }\n",
        "                    }\n",
        "                ],\n",
        "            \"temperature\":0,\n",
        "            \"top_p\":1,\n",
        "            \"max_tokens\":800,\n",
        "            \"stop\": None\n",
        "            })\n",
        "    print(f'Chatbot: {completion.choices[0].message.content}')\n",
        "    # print(completion.model_dump_json(indent=2)) #json del response\n",
        "\n",
        "while(True):\n",
        "    question=input('Inserte la consulta + ENTER o escriba \"S\" + ENTER para salir: ')\n",
        "    if question.lower() == 's':\n",
        "        break\n",
        "    scope=input(\"Para buscar solo en la información de su entidad entre '1' + ENTER, en toda la información en general entre '2' + ENTER: \")\n",
        "    if scope != '1' and scope != '2':\n",
        "        break\n",
        "    Completamiento(question, scope)\n",
        "    print(\"\\n\")"
      ],
      "metadata": {
        "colab": {
          "base_uri": "https://localhost:8080/"
        },
        "id": "f7aKZ2pLA0h3",
        "outputId": "e7059c81-eda5-4541-c4fe-fa11a7413fb7"
      },
      "execution_count": 31,
      "outputs": [
        {
          "name": "stdout",
          "output_type": "stream",
          "text": [
            "Drive already mounted at /content/drive; to attempt to forcibly remount, call drive.mount(\"/content/drive\", force_remount=True).\n",
            "Inserte la consulta + ENTER o escriba \"S\" + ENTER para salir: que es la nave?\n",
            "Para buscar solo en la información de su entidad entre '1' + ENTER, en toda la información en general entre '2' + ENTER: 1\n",
            "Chatbot: La Nave es una plataforma tecnológica que conecta a clientes y conductores para la prestación de servicios de transporte[doc5]. Funciona a través de una aplicación móvil que permite a los usuarios solicitar viajes, ver la disponibilidad en su área, la ruta sugerida, el precio estimado, entre otras funcionalidades[doc3]. Los conductores de La Nave no son empleados de la plataforma, sino usuarios de la app de conductor que ofrecen sus servicios de manera independiente, con la intermediación de La Nave[doc1]. La plataforma establece ciertas reglas para los conductores, como la prohibición de trabajar con acompañantes o con vehículos no aprobados, y establece sanciones en caso de incumplimiento[doc2]. Además, La Nave ofrece diferentes categorías de servicio, como motos, vehículos básicos, confort, básicos XL y confort XL[doc1].\n",
            "\n",
            "\n",
            "Inserte la consulta + ENTER o escriba \"S\" + ENTER para salir: Que es la universidad de la habana?\n",
            "Para buscar solo en la información de su entidad entre '1' + ENTER, en toda la información en general entre '2' + ENTER: 1\n",
            "Chatbot: La información solicitada no está disponible en los datos recuperados. Por favor, intente con otra consulta o tema.\n",
            "\n",
            "\n",
            "Inserte la consulta + ENTER o escriba \"S\" + ENTER para salir: Que es la universidad de la habana?\n",
            "Para buscar solo en la información de su entidad entre '1' + ENTER, en toda la información en general entre '2' + ENTER: 2\n",
            "Chatbot: La Universidad de La Habana es la universidad más antigua de Cuba y una de las primeras en América. Fundada el 5 de enero de 1728, es una institución de educación superior y de investigación. Ofrece una amplia gama de programas de pregrado y posgrado en diversas áreas del conocimiento, como las ciencias sociales, humanidades, ciencias naturales y exactas, y ciencias económicas, entre otras. La Universidad de La Habana es reconocida por su historia, su arquitectura colonial y su contribución significativa a la educación y la cultura en Cuba.\n",
            "\n",
            "\n",
            "Inserte la consulta + ENTER o escriba \"S\" + ENTER para salir: S\n"
          ]
        }
      ]
    }
  ]
}