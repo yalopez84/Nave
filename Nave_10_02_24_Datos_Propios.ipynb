{
  "nbformat": 4,
  "nbformat_minor": 0,
  "metadata": {
    "colab": {
      "provenance": [],
      "authorship_tag": "ABX9TyMbESsCowfSShmQS3nDRaH4",
      "include_colab_link": true
    },
    "kernelspec": {
      "name": "python3",
      "display_name": "Python 3"
    },
    "language_info": {
      "name": "python"
    }
  },
  "cells": [
    {
      "cell_type": "markdown",
      "metadata": {
        "id": "view-in-github",
        "colab_type": "text"
      },
      "source": [
        "<a href=\"https://colab.research.google.com/github/yalopez84/Nave/blob/Yoan/Nave_10_02_24_Datos_Propios.ipynb\" target=\"_parent\"><img src=\"https://colab.research.google.com/assets/colab-badge.svg\" alt=\"Open In Colab\"/></a>"
      ]
    },
    {
      "cell_type": "code",
      "source": [
        "!pip install openai"
      ],
      "metadata": {
        "colab": {
          "base_uri": "https://localhost:8080/"
        },
        "id": "xVWdkbDI8seX",
        "outputId": "84455382-34bc-4924-a14c-f17b054b1e37"
      },
      "execution_count": 1,
      "outputs": [
        {
          "output_type": "stream",
          "name": "stdout",
          "text": [
            "Collecting openai\n",
            "  Downloading openai-1.12.0-py3-none-any.whl (226 kB)\n",
            "\u001b[2K     \u001b[90m━━━━━━━━━━━━━━━━━━━━━━━━━━━━━━━━━━━━━━━━\u001b[0m \u001b[32m226.7/226.7 kB\u001b[0m \u001b[31m5.7 MB/s\u001b[0m eta \u001b[36m0:00:00\u001b[0m\n",
            "\u001b[?25hRequirement already satisfied: anyio<5,>=3.5.0 in /usr/local/lib/python3.10/dist-packages (from openai) (3.7.1)\n",
            "Requirement already satisfied: distro<2,>=1.7.0 in /usr/lib/python3/dist-packages (from openai) (1.7.0)\n",
            "Collecting httpx<1,>=0.23.0 (from openai)\n",
            "  Downloading httpx-0.26.0-py3-none-any.whl (75 kB)\n",
            "\u001b[2K     \u001b[90m━━━━━━━━━━━━━━━━━━━━━━━━━━━━━━━━━━━━━━━━\u001b[0m \u001b[32m75.9/75.9 kB\u001b[0m \u001b[31m9.7 MB/s\u001b[0m eta \u001b[36m0:00:00\u001b[0m\n",
            "\u001b[?25hRequirement already satisfied: pydantic<3,>=1.9.0 in /usr/local/lib/python3.10/dist-packages (from openai) (2.6.1)\n",
            "Requirement already satisfied: sniffio in /usr/local/lib/python3.10/dist-packages (from openai) (1.3.0)\n",
            "Requirement already satisfied: tqdm>4 in /usr/local/lib/python3.10/dist-packages (from openai) (4.66.1)\n",
            "Requirement already satisfied: typing-extensions<5,>=4.7 in /usr/local/lib/python3.10/dist-packages (from openai) (4.9.0)\n",
            "Requirement already satisfied: idna>=2.8 in /usr/local/lib/python3.10/dist-packages (from anyio<5,>=3.5.0->openai) (3.6)\n",
            "Requirement already satisfied: exceptiongroup in /usr/local/lib/python3.10/dist-packages (from anyio<5,>=3.5.0->openai) (1.2.0)\n",
            "Requirement already satisfied: certifi in /usr/local/lib/python3.10/dist-packages (from httpx<1,>=0.23.0->openai) (2024.2.2)\n",
            "Collecting httpcore==1.* (from httpx<1,>=0.23.0->openai)\n",
            "  Downloading httpcore-1.0.2-py3-none-any.whl (76 kB)\n",
            "\u001b[2K     \u001b[90m━━━━━━━━━━━━━━━━━━━━━━━━━━━━━━━━━━━━━━━━\u001b[0m \u001b[32m76.9/76.9 kB\u001b[0m \u001b[31m9.2 MB/s\u001b[0m eta \u001b[36m0:00:00\u001b[0m\n",
            "\u001b[?25hCollecting h11<0.15,>=0.13 (from httpcore==1.*->httpx<1,>=0.23.0->openai)\n",
            "  Downloading h11-0.14.0-py3-none-any.whl (58 kB)\n",
            "\u001b[2K     \u001b[90m━━━━━━━━━━━━━━━━━━━━━━━━━━━━━━━━━━━━━━━━\u001b[0m \u001b[32m58.3/58.3 kB\u001b[0m \u001b[31m7.8 MB/s\u001b[0m eta \u001b[36m0:00:00\u001b[0m\n",
            "\u001b[?25hRequirement already satisfied: annotated-types>=0.4.0 in /usr/local/lib/python3.10/dist-packages (from pydantic<3,>=1.9.0->openai) (0.6.0)\n",
            "Requirement already satisfied: pydantic-core==2.16.2 in /usr/local/lib/python3.10/dist-packages (from pydantic<3,>=1.9.0->openai) (2.16.2)\n",
            "Installing collected packages: h11, httpcore, httpx, openai\n",
            "\u001b[31mERROR: pip's dependency resolver does not currently take into account all the packages that are installed. This behaviour is the source of the following dependency conflicts.\n",
            "llmx 0.0.15a0 requires cohere, which is not installed.\n",
            "llmx 0.0.15a0 requires tiktoken, which is not installed.\u001b[0m\u001b[31m\n",
            "\u001b[0mSuccessfully installed h11-0.14.0 httpcore-1.0.2 httpx-0.26.0 openai-1.12.0\n"
          ]
        }
      ]
    },
    {
      "cell_type": "code",
      "source": [
        "import openai, os, requests\n",
        "openai.api_type = \"azure\"\n",
        "openai.api_version = \"2023-08-01-preview\"\n",
        "\n",
        "openai.api_base = \"https://lanave-assistant-ia-service.openai.azure.com/\" # Add your endpoint here\n",
        "openai.api_key = \"f93d8e26153543d18b2e1124ade3d01d\" # Add your OpenAI API key here\n",
        "deployment_id = \"gpt-4\" # Add your deployment ID here\n",
        "\n",
        "search_endpoint = \"https://lanaveassistantsearch.search.windows.net\"; # Add your Azure AI Search endpoint here\n",
        "search_key = \"gCXGhPxaufktNMDObsMReXknUhZTu5mpDQP1VZnDdvAzSeBOR61v\"; # Add your Azure AI Search admin key here\n",
        "search_index_name = \"lanave-assistant-index-dev\"; # Add your Azure AI Search index name here"
      ],
      "metadata": {
        "id": "IcoEBdGP87IO"
      },
      "execution_count": 11,
      "outputs": []
    },
    {
      "cell_type": "code",
      "source": [
        "import os\n",
        "import openai\n",
        "endpoint = \"https://lanave-assistant-ia-service.openai.azure.com/\"\n",
        "api_key = \"f93d8e26153543d18b2e1124ade3d01d\"\n",
        "deployment = \"gpt-4\"\n",
        "\n",
        "client = openai.AzureOpenAI(\n",
        "    base_url=f\"{endpoint}/openai/deployments/{deployment}/extensions\",\n",
        "    api_key=api_key,\n",
        "    api_version=\"2023-08-01-preview\",\n",
        ")\n",
        "\n",
        "completion = client.chat.completions.create(\n",
        "    model=deployment,\n",
        "    messages=[\n",
        "        {\n",
        "            \"role\": \"user\",\n",
        "            \"content\": \"Que es la nave?\",\n",
        "        },\n",
        "    ],\n",
        "    extra_body={\n",
        "        \"dataSources\": [\n",
        "            {\n",
        "                \"type\": \"AzureCognitiveSearch\",\n",
        "                \"parameters\": {\n",
        "                    \"endpoint\": \"https://lanaveassistantsearch.search.windows.net\",\n",
        "                    \"key\": \"gCXGhPxaufktNMDObsMReXknUhZTu5mpDQP1VZnDdvAzSeBOR61v\",\n",
        "                    \"indexName\": \"lanave-assistant-index-dev\"\n",
        "                }\n",
        "            }\n",
        "        ]\n",
        "    }\n",
        ")\n",
        "print(completion.model_dump_json(indent=2))"
      ],
      "metadata": {
        "colab": {
          "base_uri": "https://localhost:8080/"
        },
        "id": "f7aKZ2pLA0h3",
        "outputId": "009d1ba5-57bc-478f-e38c-a42474a8e77c"
      },
      "execution_count": 14,
      "outputs": [
        {
          "output_type": "stream",
          "name": "stdout",
          "text": [
            "{\n",
            "  \"id\": \"b6c72fd1-a089-4ca5-a51e-d2beece5ddc5\",\n",
            "  \"choices\": [\n",
            "    {\n",
            "      \"finish_reason\": \"stop\",\n",
            "      \"index\": 0,\n",
            "      \"logprobs\": null,\n",
            "      \"message\": {\n",
            "        \"content\": \"La Nave es una plataforma tecnológica que ofrece servicios de transporte a través de una aplicación móvil. Los usuarios pueden solicitar viajes, ver la disponibilidad de vehículos en su área, la ruta sugerida, el precio estimado y otras funcionalidades a través de la app \\\"La Nave\\\". La aplicación calcula el precio de cada viaje de forma automatizada, tomando en cuenta el tiempo invertido y la distancia recorrida. Además, ofrece diferentes categorías de servicio como motos, vehículos básicos, confort, básicos XL y confort XL. Los conductores deben cumplir con ciertas normas, como trabajar solo con vehículos previamente revisados y aprobados, y no prestar servicios con acompañantes. En caso de incumplimiento, pueden ser sancionados y expulsados de la plataforma[doc1][doc2][doc3][doc4][doc5].\",\n",
            "        \"role\": \"assistant\",\n",
            "        \"function_call\": null,\n",
            "        \"tool_calls\": null,\n",
            "        \"end_turn\": true,\n",
            "        \"context\": {\n",
            "          \"messages\": [\n",
            "            {\n",
            "              \"role\": \"tool\",\n",
            "              \"content\": \"{\\\"citations\\\": [{\\\"content\\\": \\\"Ahora, ten en cuenta que los cambios en la ruta pueden llevar a una variación en el costo final del viaje\\\\nLa aplicación tiene una “Tarifa Mínima” por carrera y toma en cuenta el tiempo invertido en el viaje y la distancia recorrida (todo de forma automatizada). A partir de estas variables se calcula el precio de cada viaje.\\\\nLos pagos por tarjeta aún no están incorporados en la aplicación\\\\nEn la aplicación del cliente inserte primero la dirección de destino, puede apoyarse en la herramienta que indica fijar ubicación en el mapa, con esta herramienta puede buscar su dirección de forma manual o a través del buscador que le aparece en la parte superior\\\\nPara solicitar nuestros servicios es necesario la app “La Nave” En esta, puede ver la disponibilidad en su área, ruta sugerida, precio estimado y otras funcionalidades.\\\\nPara solicitar un viaje para otra persona, debe poner la ubicación de origen de la persona y el destino. Le recomendamos comunicarse con el conductor para hacerle saber que no es el cliente registrado el que realiza el viaje. \\\\nLos carros XL cuentan con 7 plazas regularmente, aunque pueden existir algunos vehículos con mayor capacidad.\\\\nLos conductores pueden adicionar todos los carros con los que trabajan regularmente, para adicionarlo solo deben traerlos a la oficina, se le inspecciona y aprueba.\\\\nLos conductores con varios vehículos aprobados deben seleccionar el carro con el que van a trabajar.\\\\nLos conductores con varios vehículos aprobados deben asegurarse que están trabajando con el vehículo seleccionado.\\\\nLos perfiles son personales e intransferibles.\\\\nLos conductores no deben prestar su perfil a otros conductores no aprobados o registrados en la nave.\\\\nLos conductores pueden traer a otro conductor para trabajar con su carro. Debe traer al conductor y el carro a la oficina, le revisamos toda la documentación y se le crea un perfil independiente al nuevo conductor\\\\nEste es el número de tarjeta donde debe realizar el depósito: 9212 9598 7070 7686. El número de confirmación es 52619980, siempre debe comunicarnos la cantidad que transfiere a través de WhatsApp adjuntando una captura de pantalla de la transferencia\\\\nPara descargar la aplicación de cliente en Android: https://play.google.com/store/apps/details?id=app.lanave.user&hl=es-419\\\\nPara descargar la aplicación de cliente en IOS: https://apps.apple.com/us/app/la-nave/id1461474763?l=es\\\\\\\"\\\\nTenga en cuenta que cada viaje que cancelan una vez aceptado, incrementa su % de cancelación, la plataforma bloquea automáticamente cuando este % sea alto. \\\\nEn caso de problemas con durante el viaje se debe cobrar el precio aproximado del viaje y comunicarse con asistencia.\\\\nLos conductores pueden aceptar los viajes que se comparten en los grupos de WhatsApp siguiendo los siguientes pasos: 1- Dejar apretada la carrera que quieren realizar. (El mensaje se marcará y cambiará de color). 2- Una vez apretado saldrán 3 puntos en la parte derecha superior y saldrá un cartel que dice RESPONDER POR PRIVADO\\\", \\\"id\\\": null, \\\"title\\\": \\\"En La Nave los conductores no deben trabajar o prestar servicios con acompañantes, ni con vehículos que no hayan sido previamente revisados y aprobados. En caso de incumplimiento, el conductor será\\\", \\\"filepath\\\": \\\"datos de entrenamiento.docx\\\", \\\"url\\\": \\\"https://lanaveassistantiastorage.blob.core.windows.net/fileupload-lanave-assistant-index-dev/datos%20de%20entrenamiento.docx\\\", \\\"metadata\\\": {\\\"chunking\\\": \\\"orignal document size=1016. Scores=1.6952915Org Highlight count=34.\\\"}, \\\"chunk_id\\\": \\\"1\\\"}, {\\\"content\\\": \\\"Para registrarse como conductor de moto, debe comunicarse con este número vía WhatsApp +53 53913372, es la persona encargada de realizar este proceso.\\\\n\\\\nPara registrarse como taxista en la categoría motos, debe comunicarse con las personas responsables, debido a que este es un servicio de terceros en acuerdo con la plataforma tecnológica de la nave. Este es el contacto del responsable de inscripciones de motos, +53 53913372, comuníquese vía WhatsApp\\\\n\\\\nMotos, es una nueva categoría de la nave. Esta ha sido desarrollada en colaboración con un tercero que gestiona todo lo referente a este servicio.\\\\n\\\\nSe puede usar de forma mas eficiente el buscador, solo debe conocer algunos atajos. Para buscar lugares por su nombre le recomendamos usar las palabras claves acompañada del nombre del lugar, por ejemplo - bar Pazillo – \\\\n\\\\nEstas son algunas palabras claves que mejoran la experiencia de las búsquedas en la nave: bar, hospital, embajada, restaurante, cafetería, entre otras. \\\\n\\\\nPara buscar lugares en el buscador de direcciones, escriba la categoría o tipo de lugar y posteriormente el nombre. Ejemplo - bar Pazillo –\\\\n\\\\nEl servicio de asistencia está disponible por WhatsApp para clientes y conductores todos los días de la semana de 8:00 AM a 10:00 PM.\\\\n\\\\nEn la oficina se atienden conductores de lunes a viernes desde las 9:00 AM hasta las 4:00 PM\\\\n¿Cuál es el horario de atención en la oficina de La Nave? El horario de atención a conductores en la oficina es de lunes a viernes de 9:00 a las 16:00 horas\\\\n\\\\nA partir de la versión 2.0.0 de la aplicación, puede recargar su billetera directamente, toque el menú y seleccionar billetera, toque en recargar saldo, luego seleccione el monto que desea obtener y realice el pago utilizando la pasarela actualmente disponible.\\\\n\\\\nA partir de la versión 2.0.0 de la aplicación la nave, esta disponible la recarga y transferencia de saldo, compartir viaje con seguimiento en tiempo real, el nuevo buscador de direcciones, historial de destinos recientes, rutas alternativas, es posible eliminar viajes del historial, bloquear clientes o conductores, entre otras funcionalidades\\\\n\\\\nPuede ser parte de la comunidad de La Nave uniéndose al grupo de Telegram https://t.me/lanaveapp. \\\\nEn el grupo de Telegram puede compartir su experiencia, contactar con asistencia o enterarse de las nuevas funcionalidades de la aplicación\\\\n\\\\nExisten varias categorías de servicio disponible, las motos, los vehículos básicos, confort, básicos XL y confort XL\\\\n\\\\nLos conductores de La Nave, no son empleados de esta, son usuarios de la app de conductor que prestan sus servicios con la intermediación de la nave\\\", \\\"id\\\": null, \\\"title\\\": \\\"En La Nave los conductores no deben trabajar o prestar servicios con acompañantes, ni con vehículos que no hayan sido previamente revisados y aprobados. En caso de incumplimiento, el conductor será\\\", \\\"filepath\\\": \\\"datos de entrenamiento.docx\\\", \\\"url\\\": \\\"https://lanaveassistantiastorage.blob.core.windows.net/fileupload-lanave-assistant-index-dev/datos%20de%20entrenamiento.docx\\\", \\\"metadata\\\": {\\\"chunking\\\": \\\"orignal document size=909. Scores=1.6876025Org Highlight count=42.\\\"}, \\\"chunk_id\\\": \\\"2\\\"}, {\\\"content\\\": \\\"En La Nave los conductores no deben trabajar o prestar servicios con acompañantes, ni con vehículos que no hayan sido previamente revisados y aprobados. En caso de incumplimiento, el conductor será sancionado y podrá ser expulsado de la plataforma.\\\\nEn La Nave los conductores no podrán realizar discriminación alguna en contra de los usuarios. En caso de incumplimiento, el conductor será sancionado y podrá ser expulsado de la plataforma.\\\\n\\\\nLos conductores solo pueden prestar servicio con los vehículos registrados en sus perfiles de La Nave.\\\\nSi el conductor necesita cambiar de vehículo, debe actualizar su perfil y recibir la aprobación de La Nave antes de comenzar a prestar servicio con el nuevo vehículo. \\\\nLos conductores deben proporcionar a La Nave información precisa y completa sobre su vehículo, incluyendo la matrícula, la marca, el modelo, el año, el color y la foto del vehículo.\\\\nLos conductores deben mantener su vehículo en buenas condiciones de funcionamiento, limpio y libre de daños, y cumplir con todas las leyes, normas y regulaciones aplicables a los vehículos que prestan servicios. \\\\nLos conductores son responsables de asegurarse de que su vehículo cumpla con todas las leyes, normas y regulaciones aplicables a los vehículos que prestan servicios, incluyendo la inspección y el mantenimiento del vehículo. \\\\nLos conductores son responsables de mantener su vehículo en buen estado de funcionamiento y limpio, y de cumplir con todas las leyes, normas y regulaciones aplicables a los vehículos que prestan servicios. Los conductores deben tener una licencia de conducir válida y estar autorizados para conducir el vehículo que utilizan para prestar servicios. \\\\nLos conductores deben cumplir con todas las leyes, normas y regulaciones aplicables a la conducción de vehículos. \\\\nLos conductores deben cumplir con todas las leyes, normas y regulaciones aplicables a la conducción de vehículos, incluyendo las leyes de tránsito y las normas de seguridad vial. \\\\nLos conductores deben cumplir con todas las leyes, normas y regulaciones aplicables a la conducción de vehículos\\\\nLos perfiles son de uso exclusivamente personal e intransferibles.\\\\nLos conductores no deben Prestar servicio en un auto no autorizado, se considera una falta grave y puede ocasionar la separación permanente de la plataforma.\\\\nLa plataforma deberá verificar que el auto se encuentre en buenas condiciones para prestar el servicio, para lo cual se realizará una revisión periódica del auto.\\\\nSi un conductor presta su perfil a otro conductor, se considera una falta grave y ambos pueden quedar excluidos de manera permanente de la plataforma\\\\n\\\\nLa tarifa dinámica es el movimiento del precio en función de la oferta y la demanda. Es una herramienta que contribuye a mejorar la disponibilidad de naves en horarios picos.\\\\nLa Tarifa Dinámica funciona de la siguiente manera: el precio de los viajes se ajusta en función de la oferta y la demanda de cada momento. Si la demanda es alta, el precio sube, y si la demanda es baja, el precio baja\\\", \\\"id\\\": null, \\\"title\\\": \\\"En La Nave los conductores no deben trabajar o prestar servicios con acompañantes, ni con vehículos que no hayan sido previamente revisados y aprobados. En caso de incumplimiento, el conductor será\\\", \\\"filepath\\\": \\\"datos de entrenamiento.docx\\\", \\\"url\\\": \\\"https://lanaveassistantiastorage.blob.core.windows.net/fileupload-lanave-assistant-index-dev/datos%20de%20entrenamiento.docx\\\", \\\"metadata\\\": {\\\"chunking\\\": \\\"orignal document size=1010. Scores=1.544251Org Highlight count=38.\\\"}, \\\"chunk_id\\\": \\\"3\\\"}, {\\\"content\\\": \\\"A pesar de esto, tanto clientes como conductores que incurren en violaciones o mal uso de la plataforma pueden ser bloqueados de forma parcial o permanente de la plataforma\\\\n\\\\nRecomendamos viajar usando la aplicación, si se cancela por algún motivo el viaje la plataforma no puede proteger a ninguna de las partes por no contar con información del viaje. \\\\n\\\\nLos acuerdos entre cliente y conductor no son responsabilidad de la plataforma.\\\\n\\\\nEn caso de error en el viaje, el cliente debe pagar el precio estimado inicialmente, teniendo en cuenta la ruta y el tiempo previamente estimado, luego comuníquese con asistencia para informar lo sucedido o en caso de requerir ayuda\\\\n\\\\n¿Qué hacer si al solicitar un viaje llega un carro diferente al que describe la aplicación? Puede cancelar el servicio y reportarlo al equipo de asistencia.\\\\n\\\\n¿Qué hacer si al solicitar un viaje, el conductor propone cancelar el viaje? Recomendamos exigir realizar el viaje por la aplicación o cancelar y solicitar otro servicio. \\\\n\\\\nLos viajes que no se realizan por la aplicación de la nave, no son registrados, por lo que la plataforma no puede proteger ni garantizar sus derechos\\\\n\\\\n¿Qué hacer si al finalizar el viaje no puede cerrar correctamente o no muestra la factura? El cliente siempre que su viaje se apegue al recorrido estimado inicialmente, puede pagar el precio aproximado.\\\\n\\\\nAnte cualquier duda sobre la facturación de su viaje, siempre puede comunicarse por WhatsApp con el equipo de asistencia todos los días entre las 8:00 AM y las 10:00 PM\\\\n\\\\nPuede solicitar viajes por la aplicación todos los días a toda hora, siempre estará sujeto a la oferta en su entorno\\\", \\\"id\\\": null, \\\"title\\\": \\\"En La Nave los conductores no deben trabajar o prestar servicios con acompañantes, ni con vehículos que no hayan sido previamente revisados y aprobados. En caso de incumplimiento, el conductor será\\\", \\\"filepath\\\": \\\"datos de entrenamiento.docx\\\", \\\"url\\\": \\\"https://lanaveassistantiastorage.blob.core.windows.net/fileupload-lanave-assistant-index-dev/datos%20de%20entrenamiento.docx\\\", \\\"metadata\\\": {\\\"chunking\\\": \\\"orignal document size=568. Scores=1.2764635Org Highlight count=19.\\\"}, \\\"chunk_id\\\": \\\"5\\\"}, {\\\"content\\\": \\\"El usuario puede elegir el horario que más le conviene, con un costo que se ajusta a la oferta y la demanda de ese momento.\\\\n¿Puede seguirse una ruta alternativa a la propuesta por la aplicación? Por supuesto, de forma general, los conductores deben seguir la ruta propuesta por la plataforma (más eficiente en cuanto a tiempo y distancia), pero pueden variarla a solicitud del cliente o en caso de algún imprevisto. Ahora, ten en cuenta que esto puede llevar a un recálculo de la tarifa aproximada.\\\\n¿Puedo solicitar un conductor específico? No, no es posible solicitar un conductor específico. La Nave le asigna el conductor más cercano al punto de partida del usuario. ¿Puedo solicitar un viaje para otra persona? Sí, puedes solicitar un viaje para otra persona, pero debes tener en cuenta que el usuario que se registra en la aplicación es el responsable de los términos y condiciones de uso de la plataforma.\\\\nEl conductor puede seguir una ruta alternativa siempre que esta no incurra en costos adicionales para el cliente y siempre con previa autorización por parte del cliente. El cliente puede solicitar una ruta alternativa. \\\\n¿Cómo calcula el precio final La nave? La aplicación tiene una “Tarifa Mínima” por carrera y toma en cuenta el tiempo invertido en el viaje y la distancia recorrida (todo de forma automatizada). A partir de estas variables se calcula el precio de cada viaje.\\\\n¿Qué te recomendamos para viajar con La nave app? Verificar la dirección que marca tu GPS como punto inicial de la carrera (por temas de conexión u otras dificultades puede pasar que el punto inicial que marca el GPS no sea donde realmente estés). \\\\nSiempre verifica la información del conductor (foto, nombre, placa del vehículo y modelo) antes de abordar el vehículo. \\\\nSi tienes alguna duda o problema durante el viaje, comunícate con el conductor o con el equipo de soporte de La nave app. \\\\n\\\\nNo compartas información personal durante el viaje. \\\\n \\\\nSi viajas con mascotas, asegúrate de que el conductor permita su ingreso al vehículo. \\\\n\\\\nSi necesitas hacer una parada durante el viaje, comunícate con su conductor\\\\nPara viajar en La Nave recomendamos que los clientes verifiquen la dirección que marca tu GPS como punto inicial de la carrera (por temas de conexión u otras dificultades puede pasar que el punto inicial que marca el GPS no sea donde realmente estés). \\\\nLa Nave se reserva el derecho de cambiar estos términos y condiciones en cualquier momento sin previo aviso.\\\\nLos conductores de La Nave están obligados a cumplir con todas las leyes y regulaciones de tránsito aplicables.\\\\nLos clientes pueden cambiar el origen del viaje para corregir la dirección de inicio.\\\\nLos clientes pueden pedir un viaje desde su cuenta para otra persona, recomendamos siempre compartirlo con el conductor antes de iniciar el viaje.\\\\nLos clientes pueden Revisar el costo aproximado del viaje antes de hacer la carrera\\\", \\\"id\\\": null, \\\"title\\\": \\\"En La Nave los conductores no deben trabajar o prestar servicios con acompañantes, ni con vehículos que no hayan sido previamente revisados y aprobados. En caso de incumplimiento, el conductor será\\\", \\\"filepath\\\": \\\"datos de entrenamiento.docx\\\", \\\"url\\\": \\\"https://lanaveassistantiastorage.blob.core.windows.net/fileupload-lanave-assistant-index-dev/datos%20de%20entrenamiento.docx\\\", \\\"metadata\\\": {\\\"chunking\\\": \\\"orignal document size=1002. Scores=1.5329754Org Highlight count=35.\\\"}, \\\"chunk_id\\\": \\\"4\\\"}], \\\"intent\\\": \\\"[\\\\\\\"Qué es la nave\\\\\\\", \\\\\\\"Definición de nave\\\\\\\", \\\\\\\"Significado de nave\\\\\\\"]\\\"}\",\n",
            "              \"end_turn\": false\n",
            "            }\n",
            "          ]\n",
            "        }\n",
            "      }\n",
            "    }\n",
            "  ],\n",
            "  \"created\": 1707619225,\n",
            "  \"model\": \"gpt-4\",\n",
            "  \"object\": \"extensions.chat.completion\",\n",
            "  \"system_fingerprint\": \"fp_68a7d165bf\",\n",
            "  \"usage\": {\n",
            "    \"completion_tokens\": 215,\n",
            "    \"prompt_tokens\": 7139,\n",
            "    \"total_tokens\": 7354\n",
            "  }\n",
            "}\n"
          ]
        }
      ]
    }
  ]
}